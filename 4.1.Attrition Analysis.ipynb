{
 "cells": [
  {
   "cell_type": "code",
   "execution_count": 1,
   "metadata": {},
   "outputs": [],
   "source": [
    "import numpy as np\n",
    "import pandas as pd"
   ]
  },
  {
   "cell_type": "code",
   "execution_count": 2,
   "metadata": {},
   "outputs": [],
   "source": [
    "import numpy as np\n",
    "import pandas as pd"
   ]
  },
  {
   "cell_type": "code",
   "execution_count": 3,
   "metadata": {},
   "outputs": [],
   "source": [
    "import matplotlib.pyplot as plt\n",
    "import seaborn as sns\n",
    "import plotly.express as px"
   ]
  },
  {
   "cell_type": "code",
   "execution_count": null,
   "metadata": {},
   "outputs": [],
   "source": [
    "import csv\n",
    "\n",
    "# Specify the file path\n",
    "file_path = 'HR-Employee-Attrition.csv'\n",
    "hr_data =  pd.read_csv('HR-Employee-Attrition.csv')\n",
    "# Open the CSV file and read its contents\n",
    "with open(file_path, 'r') as csv_file:\n",
    "    data_read = csv.reader(csv_file)\n",
    "    \n",
    "    # Read each row in the CSV file\n",
    "    for row in data_read:\n",
    "        print(row)"
   ]
  },
  {
   "cell_type": "code",
   "execution_count": 5,
   "metadata": {},
   "outputs": [
    {
     "name": "stdout",
     "output_type": "stream",
     "text": [
      "<class 'pandas.core.frame.DataFrame'>\n",
      "RangeIndex: 1470 entries, 0 to 1469\n",
      "Data columns (total 35 columns):\n",
      " #   Column                    Non-Null Count  Dtype \n",
      "---  ------                    --------------  ----- \n",
      " 0   Age                       1470 non-null   int64 \n",
      " 1   Attrition                 1470 non-null   object\n",
      " 2   BusinessTravel            1470 non-null   object\n",
      " 3   DailyRate                 1470 non-null   int64 \n",
      " 4   Department                1470 non-null   object\n",
      " 5   DistanceFromHome          1470 non-null   int64 \n",
      " 6   Education                 1470 non-null   int64 \n",
      " 7   EducationField            1470 non-null   object\n",
      " 8   EmployeeCount             1470 non-null   int64 \n",
      " 9   EmployeeNumber            1470 non-null   int64 \n",
      " 10  EnvironmentSatisfaction   1470 non-null   int64 \n",
      " 11  Gender                    1470 non-null   object\n",
      " 12  HourlyRate                1470 non-null   int64 \n",
      " 13  JobInvolvement            1470 non-null   int64 \n",
      " 14  JobLevel                  1470 non-null   int64 \n",
      " 15  JobRole                   1470 non-null   object\n",
      " 16  JobSatisfaction           1470 non-null   int64 \n",
      " 17  MaritalStatus             1470 non-null   object\n",
      " 18  MonthlyIncome             1470 non-null   int64 \n",
      " 19  MonthlyRate               1470 non-null   int64 \n",
      " 20  NumCompaniesWorked        1470 non-null   int64 \n",
      " 21  Over18                    1470 non-null   object\n",
      " 22  OverTime                  1470 non-null   object\n",
      " 23  PercentSalaryHike         1470 non-null   int64 \n",
      " 24  PerformanceRating         1470 non-null   int64 \n",
      " 25  RelationshipSatisfaction  1470 non-null   int64 \n",
      " 26  StandardHours             1470 non-null   int64 \n",
      " 27  StockOptionLevel          1470 non-null   int64 \n",
      " 28  TotalWorkingYears         1470 non-null   int64 \n",
      " 29  TrainingTimesLastYear     1470 non-null   int64 \n",
      " 30  WorkLifeBalance           1470 non-null   int64 \n",
      " 31  YearsAtCompany            1470 non-null   int64 \n",
      " 32  YearsInCurrentRole        1470 non-null   int64 \n",
      " 33  YearsSinceLastPromotion   1470 non-null   int64 \n",
      " 34  YearsWithCurrManager      1470 non-null   int64 \n",
      "dtypes: int64(26), object(9)\n",
      "memory usage: 402.1+ KB\n"
     ]
    }
   ],
   "source": [
    "hr_data.info()"
   ]
  },
  {
   "cell_type": "code",
   "execution_count": 13,
   "metadata": {},
   "outputs": [
    {
     "name": "stderr",
     "output_type": "stream",
     "text": [
      "C:\\Users\\Inspiron\\AppData\\Local\\Temp\\ipykernel_25444\\2999303839.py:9: FutureWarning: The default of observed=False is deprecated and will be changed to True in a future version of pandas. Pass observed=False to retain current behavior or observed=True to adopt the future default and silence this warning.\n",
      "  attrition_by_distance = hr_data.groupby(pd.cut(hr_data['DistanceFromHome'], bins=3))['Attrition'].value_counts(normalize=True) * 100\n"
     ]
    },
    {
     "data": {
      "text/plain": [
       "(16.122448979591837,\n",
       " Attrition                      No        Yes\n",
       " Department                                  \n",
       " Human Resources         80.952381  19.047619\n",
       " Research & Development  86.160250  13.839750\n",
       " Sales                   79.372197  20.627803,\n",
       " Attrition                         No        Yes\n",
       " JobRole                                        \n",
       " Healthcare Representative  93.129771   6.870229\n",
       " Human Resources            76.923077  23.076923\n",
       " Laboratory Technician      76.061776  23.938224\n",
       " Manager                    95.098039   4.901961\n",
       " Manufacturing Director     93.103448   6.896552\n",
       " Research Director          97.500000   2.500000\n",
       " Research Scientist         83.904110  16.095890\n",
       " Sales Executive            82.515337  17.484663\n",
       " Sales Representative       60.240964  39.759036,\n",
       " Attrition                No        Yes\n",
       " DistanceFromHome                      \n",
       " (0.972, 10.333]   85.964912  14.035088\n",
       " (10.333, 19.667]  79.534884  20.465116\n",
       " (19.667, 29.0]    78.602620  21.397380,\n",
       " Attrition\n",
       " No     6832.739659\n",
       " Yes    4787.092827\n",
       " Name: MonthlyIncome, dtype: float64)"
      ]
     },
     "execution_count": 13,
     "metadata": {},
     "output_type": "execute_result"
    }
   ],
   "source": [
    "# Calculate Attrition Rate\n",
    "attrition_data = hr_data['Attrition'].value_counts(normalize=True) * 100\n",
    "attrition_rate = attrition_data['Yes']\n",
    "\n",
    "# Prepare data for analysis by key factors\n",
    "# Here, we'll look at a few examples: Department, JobRole, DistanceFromHome, MonthlyIncome\n",
    "attrition_by_department = hr_data.groupby('Department')['Attrition'].value_counts(normalize=True) * 100\n",
    "attrition_by_job_role = hr_data.groupby('JobRole')['Attrition'].value_counts(normalize=True) * 100\n",
    "attrition_by_distance = hr_data.groupby(pd.cut(hr_data['DistanceFromHome'], bins=3))['Attrition'].value_counts(normalize=True) * 100\n",
    "\n",
    "# Average Monthly Income for those who left vs. those who stayed\n",
    "average_income_by_attrition = hr_data.groupby('Attrition')['MonthlyIncome'].mean()\n",
    "\n",
    "attrition_rate, attrition_by_department.unstack(), attrition_by_job_role.unstack(), attrition_by_distance.unstack(), average_income_by_attrition\n"
   ]
  },
  {
   "cell_type": "code",
   "execution_count": 7,
   "metadata": {},
   "outputs": [
    {
     "data": {
      "text/plain": [
       "(PerformanceRating\n",
       " 3    84.62585\n",
       " 4    15.37415\n",
       " Name: proportion, dtype: float64,\n",
       " 2.7285714285714286,\n",
       " 2.721768707482993)"
      ]
     },
     "execution_count": 7,
     "metadata": {},
     "output_type": "execute_result"
    }
   ],
   "source": [
    "# Distribution of Performance Ratings\n",
    "performance_rating_distribution = hr_data['PerformanceRating'].value_counts(normalize=True) * 100\n",
    "\n",
    "# Average Job Satisfaction\n",
    "average_job_satisfaction = hr_data['JobSatisfaction'].mean()\n",
    "\n",
    "# Average Environment Satisfaction\n",
    "average_environment_satisfaction = hr_data['EnvironmentSatisfaction'].mean()\n",
    "\n",
    "performance_rating_distribution, average_job_satisfaction, average_environment_satisfaction\n"
   ]
  },
  {
   "cell_type": "code",
   "execution_count": 8,
   "metadata": {},
   "outputs": [
    {
     "data": {
      "text/plain": [
       "(Attrition                 No        Yes\n",
       " PerformanceRating                      \n",
       " 3                  83.922830  16.077170\n",
       " 4                  83.628319  16.371681,\n",
       " Attrition               No        Yes\n",
       " JobSatisfaction                      \n",
       " 1                77.162630  22.837370\n",
       " 2                83.571429  16.428571\n",
       " 3                83.484163  16.515837\n",
       " 4                88.671024  11.328976,\n",
       " Attrition                       No        Yes\n",
       " EnvironmentSatisfaction                      \n",
       " 1                        74.647887  25.352113\n",
       " 2                        85.017422  14.982578\n",
       " 3                        86.313466  13.686534\n",
       " 4                        86.547085  13.452915)"
      ]
     },
     "execution_count": 8,
     "metadata": {},
     "output_type": "execute_result"
    }
   ],
   "source": [
    "# Performance Ratings and Attrition\n",
    "performance_ratings = hr_data.groupby('PerformanceRating')['Attrition'].value_counts(normalize=True).unstack() * 100\n",
    "\n",
    "# Job Satisfaction and Attrition\n",
    "job_satisfaction = hr_data.groupby('JobSatisfaction')['Attrition'].value_counts(normalize=True).unstack() * 100\n",
    "\n",
    "# Environment Satisfaction and its correlation with Job Satisfaction\n",
    "environment_satisfaction = hr_data.groupby('EnvironmentSatisfaction')['Attrition'].value_counts(normalize=True).unstack() * 100\n",
    "\n",
    "performance_ratings, job_satisfaction, environment_satisfaction\n"
   ]
  },
  {
   "cell_type": "code",
   "execution_count": 9,
   "metadata": {},
   "outputs": [
    {
     "data": {
      "text/plain": [
       "(Gender\n",
       " Male      60.0\n",
       " Female    40.0\n",
       " Name: proportion, dtype: float64,\n",
       " MaritalStatus\n",
       " Married     45.782313\n",
       " Single      31.972789\n",
       " Divorced    22.244898\n",
       " Name: proportion, dtype: float64,\n",
       " count    1470.000000\n",
       " mean       36.923810\n",
       " std         9.135373\n",
       " min        18.000000\n",
       " 25%        30.000000\n",
       " 50%        36.000000\n",
       " 75%        43.000000\n",
       " max        60.000000\n",
       " Name: Age, dtype: float64,\n",
       " Gender       Female       Male\n",
       " JobLevel                      \n",
       " 1         36.648250  63.351750\n",
       " 2         41.198502  58.801498\n",
       " 3         43.119266  56.880734\n",
       " 4         48.113208  51.886792\n",
       " 5         34.782609  65.217391,\n",
       " JobLevel\n",
       " 1    32.524862\n",
       " 2    36.599251\n",
       " 3    40.087156\n",
       " 4    47.537736\n",
       " 5    47.753623\n",
       " Name: Age, dtype: float64)"
      ]
     },
     "execution_count": 9,
     "metadata": {},
     "output_type": "execute_result"
    }
   ],
   "source": [
    "# Gender and Marital Status Distribution\n",
    "gender_distribution = hr_data['Gender'].value_counts(normalize=True) * 100\n",
    "marital_status_distribution = hr_data['MaritalStatus'].value_counts(normalize=True) * 100\n",
    "\n",
    "# Age Distribution\n",
    "age_distribution = hr_data['Age'].describe()\n",
    "\n",
    "# Diversity in Leadership Roles\n",
    "# Assuming 'JobLevel' as an indicator of leadership roles, with higher numbers indicating higher levels.\n",
    "leadership_gender_distribution = hr_data.groupby('JobLevel')['Gender'].value_counts(normalize=True).unstack() * 100\n",
    "leadership_age_distribution = hr_data.groupby('JobLevel')['Age'].mean()\n",
    "\n",
    "gender_distribution, marital_status_distribution, age_distribution, leadership_gender_distribution, leadership_age_distribution"
   ]
  },
  {
   "cell_type": "code",
   "execution_count": 10,
   "metadata": {},
   "outputs": [
    {
     "name": "stderr",
     "output_type": "stream",
     "text": [
      "C:\\Users\\Inspiron\\AppData\\Local\\Temp\\ipykernel_25444\\516351076.py:5: FutureWarning: The default of observed=False is deprecated and will be changed to True in a future version of pandas. Pass observed=False to retain current behavior or observed=True to adopt the future default and silence this warning.\n",
      "  average_income_by_age = hr_data.groupby(pd.cut(hr_data['Age'], bins=4))['MonthlyIncome'].mean()\n"
     ]
    },
    {
     "data": {
      "text/plain": [
       "(Department\n",
       " Human Resources           6654.507937\n",
       " Research & Development    6281.252862\n",
       " Sales                     6959.172646\n",
       " Name: MonthlyIncome, dtype: float64,\n",
       " JobRole\n",
       " Healthcare Representative     7528.763359\n",
       " Human Resources               4235.750000\n",
       " Laboratory Technician         3237.169884\n",
       " Manager                      17181.676471\n",
       " Manufacturing Director        7295.137931\n",
       " Research Director            16033.550000\n",
       " Research Scientist            3239.972603\n",
       " Sales Executive               6924.279141\n",
       " Sales Representative          2626.000000\n",
       " Name: MonthlyIncome, dtype: float64,\n",
       " Gender\n",
       " Female    6686.566327\n",
       " Male      6380.507937\n",
       " Name: MonthlyIncome, dtype: float64,\n",
       " Age\n",
       " (17.958, 28.5]     3457.228682\n",
       " (28.5, 39.0]       5499.236232\n",
       " (39.0, 49.5]       8537.959885\n",
       " (49.5, 60.0]      10942.907514\n",
       " Name: MonthlyIncome, dtype: float64,\n",
       " Department\n",
       " Human Resources           0.777778\n",
       " Research & Development    0.804370\n",
       " Sales                     0.773543\n",
       " Name: StockOptionLevel, dtype: float64,\n",
       " Gender\n",
       " Female    0.780612\n",
       " Male      0.802721\n",
       " Name: StockOptionLevel, dtype: float64,\n",
       " PerformanceRating\n",
       " 3    14.003215\n",
       " 4    21.849558\n",
       " Name: PercentSalaryHike, dtype: float64)"
      ]
     },
     "execution_count": 10,
     "metadata": {},
     "output_type": "execute_result"
    }
   ],
   "source": [
    "# Average Monthly Income Analysis\n",
    "average_income_by_department = hr_data.groupby('Department')['MonthlyIncome'].mean()\n",
    "average_income_by_job_role = hr_data.groupby('JobRole')['MonthlyIncome'].mean()\n",
    "average_income_by_gender = hr_data.groupby('Gender')['MonthlyIncome'].mean()\n",
    "average_income_by_age = hr_data.groupby(pd.cut(hr_data['Age'], bins=4))['MonthlyIncome'].mean()\n",
    "\n",
    "# Stock Option Levels Analysis\n",
    "stock_options_by_department = hr_data.groupby('Department')['StockOptionLevel'].mean()\n",
    "stock_options_by_gender = hr_data.groupby('Gender')['StockOptionLevel'].mean()\n",
    "\n",
    "# Salary Hikes and Performance Ratings\n",
    "salary_hikes_by_performance = hr_data.groupby('PerformanceRating')['PercentSalaryHike'].mean()\n",
    "\n",
    "average_income_by_department, average_income_by_job_role, average_income_by_gender, average_income_by_age, stock_options_by_department, stock_options_by_gender, salary_hikes_by_performance"
   ]
  },
  {
   "cell_type": "code",
   "execution_count": 11,
   "metadata": {},
   "outputs": [
    {
     "data": {
      "text/plain": [
       "(WorkLifeBalance\n",
       " 3    60.748299\n",
       " 2    23.401361\n",
       " 4    10.408163\n",
       " 1     5.442177\n",
       " Name: proportion, dtype: float64,\n",
       " 7.0081632653061225,\n",
       " 4.229251700680272,\n",
       " 2.1877551020408164)"
      ]
     },
     "execution_count": 11,
     "metadata": {},
     "output_type": "execute_result"
    }
   ],
   "source": [
    "# Work-Life Balance Ratings Analysis\n",
    "work_life_balance_ratings = hr_data['WorkLifeBalance'].value_counts(normalize=True) * 100\n",
    "\n",
    "# Analyzing average years at company and correlation with career growth indicators\n",
    "average_years_at_company = hr_data['YearsAtCompany'].mean()\n",
    "average_years_in_current_role = hr_data['YearsInCurrentRole'].mean()\n",
    "average_years_since_last_promotion = hr_data['YearsSinceLastPromotion'].mean()\n",
    "\n",
    "work_life_balance_ratings,average_years_at_company, average_years_in_current_role, average_years_since_last_promotion"
   ]
  }
 ],
 "metadata": {
  "kernelspec": {
   "display_name": "Python 3",
   "language": "python",
   "name": "python3"
  },
  "language_info": {
   "codemirror_mode": {
    "name": "ipython",
    "version": 3
   },
   "file_extension": ".py",
   "mimetype": "text/x-python",
   "name": "python",
   "nbconvert_exporter": "python",
   "pygments_lexer": "ipython3",
   "version": "3.11.8"
  }
 },
 "nbformat": 4,
 "nbformat_minor": 2
}
